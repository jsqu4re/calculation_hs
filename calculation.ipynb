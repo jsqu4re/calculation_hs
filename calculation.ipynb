{
 "cells": [
  {
   "cell_type": "markdown",
   "metadata": {},
   "source": [
    "## Assumptions"
   ]
  },
  {
   "cell_type": "markdown",
   "metadata": {},
   "source": [
    "### Rentability"
   ]
  },
  {
   "cell_type": "code",
   "execution_count": 1,
   "metadata": {},
   "outputs": [],
   "source": [
    "ROI_pa = 8\n",
    "EBIT = 0.08\n",
    "Growth = 0.08"
   ]
  },
  {
   "cell_type": "markdown",
   "metadata": {},
   "source": [
    "### Material"
   ]
  },
  {
   "cell_type": "code",
   "execution_count": 2,
   "metadata": {},
   "outputs": [],
   "source": [
    "car_Eu = 15000\n",
    "wagon_Eu = 25000"
   ]
  },
  {
   "cell_type": "markdown",
   "metadata": {},
   "source": [
    "### Scenario"
   ]
  },
  {
   "cell_type": "code",
   "execution_count": 3,
   "metadata": {},
   "outputs": [],
   "source": [
    "rental_days_pa = 150\n",
    "average_km_delivery = 100\n",
    "average_h_delivery = 2\n",
    "average_usage_pd = 6\n",
    "average_repair_p_usage = 0.01"
   ]
  },
  {
   "cell_type": "markdown",
   "metadata": {},
   "source": [
    "### Costs"
   ]
  },
  {
   "cell_type": "code",
   "execution_count": 4,
   "metadata": {},
   "outputs": [],
   "source": [
    "work_h_Eu = 35\n",
    "vehicle_km_Eu = 0.5\n",
    "material_sole_Eu = 2\n",
    "average_repair_Eu = 20 # due to rental conrtract materials are covered\n",
    "average_repair_time = 2"
   ]
  },
  {
   "cell_type": "markdown",
   "metadata": {},
   "source": [
    "### Income"
   ]
  },
  {
   "cell_type": "code",
   "execution_count": 5,
   "metadata": {},
   "outputs": [],
   "source": [
    "rental_pd_Eu = 100\n",
    "# delivery_pkm_Eu = 0.5"
   ]
  },
  {
   "cell_type": "markdown",
   "metadata": {},
   "source": [
    "## Total Cost"
   ]
  },
  {
   "cell_type": "code",
   "execution_count": 6,
   "metadata": {},
   "outputs": [
    {
     "data": {
      "text/plain": [
       "5000.0"
      ]
     },
     "execution_count": 6,
     "metadata": {},
     "output_type": "execute_result"
    }
   ],
   "source": [
    "material_invest_pa_Eu = (car_Eu + wagon_Eu) / ROI_pa\n",
    "\n",
    "material_invest_pa_Eu"
   ]
  },
  {
   "cell_type": "code",
   "execution_count": 7,
   "metadata": {},
   "outputs": [],
   "source": [
    "# Delivery\n",
    "work_force_pa_Eu = work_h_Eu * average_h_delivery * rental_days_pa\n",
    "vehicle_pa_Eu = average_km_delivery * vehicle_km_Eu * rental_days_pa\n",
    "# Repairs\n",
    "repairs_pa = rental_days_pa * average_usage_pd * average_repair_p_usage\n",
    "repairs_work_force_pa_Eu = work_h_Eu * average_repair_time * repairs_pa\n",
    "repairs_material_pa_Eu = average_repair_Eu * repairs_pa"
   ]
  },
  {
   "cell_type": "markdown",
   "metadata": {},
   "source": [
    "## Cost per Year"
   ]
  },
  {
   "cell_type": "code",
   "execution_count": 8,
   "metadata": {},
   "outputs": [
    {
     "name": "stdout",
     "output_type": "stream",
     "text": [
      "23819.0 € per annum\n"
     ]
    }
   ],
   "source": [
    "cost_pa = material_invest_pa_Eu + work_force_pa_Eu + vehicle_pa_Eu + repairs_pa + repairs_work_force_pa_Eu + repairs_material_pa_Eu\n",
    "\n",
    "print (str(cost_pa) + \" € per annum\")"
   ]
  },
  {
   "cell_type": "markdown",
   "metadata": {},
   "source": [
    "## Suggested EBIT"
   ]
  },
  {
   "cell_type": "code",
   "execution_count": 9,
   "metadata": {},
   "outputs": [
    {
     "name": "stdout",
     "output_type": "stream",
     "text": [
      "Suggested EBIT                1905.52\n",
      "Suggested Reinvest Capacities 1905.52\n",
      "Rental days target            162.0\n"
     ]
    }
   ],
   "source": [
    "suggested_ebit = cost_pa * EBIT\n",
    "suggested_reinvest_capacity = cost_pa * Growth\n",
    "suggested_rental_days_growth = rental_days_pa * Growth\n",
    "suggested_target_rental_days = suggested_rental_days_growth + rental_days_pa\n",
    "\n",
    "print(\"Suggested EBIT                \" + str(suggested_ebit))\n",
    "print(\"Suggested Reinvest Capacities \" + str(suggested_reinvest_capacity))\n",
    "print(\"Rental days target            \" + str(suggested_target_rental_days))"
   ]
  },
  {
   "cell_type": "markdown",
   "metadata": {},
   "source": [
    "## Suggested Prize"
   ]
  },
  {
   "cell_type": "code",
   "execution_count": 10,
   "metadata": {},
   "outputs": [
    {
     "name": "stdout",
     "output_type": "stream",
     "text": [
      "Target income 27630.04\n",
      "No income average pricing:   158.79 Euro per day (Delta: -58.79€)\n",
      "No growth average pricing:   171.5 Euro per day (Delta: -71.5€)\n",
      "Sustainable average pricing: 184.2 Euro per day (Delta: -84.2€)\n"
     ]
    }
   ],
   "source": [
    "sustainable_income = cost_pa + suggested_ebit + suggested_reinvest_capacity\n",
    "\n",
    "print(\"Target income \" + str(sustainable_income))\n",
    "\n",
    "no_income_average_pricing = cost_pa / rental_days_pa\n",
    "no_growth_average_pricing = (cost_pa + suggested_ebit) / rental_days_pa\n",
    "sustainable_average_pricing = sustainable_income / rental_days_pa\n",
    "\n",
    "print(\"No income average pricing:   \" + str(round(no_income_average_pricing, 2)) + \" Euro per day (Delta: \" + str(round(rental_pd_Eu - no_income_average_pricing, 2)) + \"€)\")\n",
    "\n",
    "print(\"No growth average pricing:   \" + str(round(no_growth_average_pricing, 2)) + \" Euro per day (Delta: \" + str(round(rental_pd_Eu - no_growth_average_pricing, 2)) + \"€)\")\n",
    "\n",
    "print(\"Sustainable average pricing: \" + str(round(sustainable_average_pricing, 2)) + \" Euro per day (Delta: \" + str(round(rental_pd_Eu - sustainable_average_pricing, 2)) + \"€)\")"
   ]
  }
 ],
 "metadata": {
  "interpreter": {
   "hash": "04635d289a519a1410467dd0afb0db42f9184808881ca68b2eb5a687a20a5a94"
  },
  "kernelspec": {
   "display_name": "Python 3.7.1 64-bit",
   "language": "python",
   "name": "python3"
  },
  "language_info": {
   "codemirror_mode": {
    "name": "ipython",
    "version": 3
   },
   "file_extension": ".py",
   "mimetype": "text/x-python",
   "name": "python",
   "nbconvert_exporter": "python",
   "pygments_lexer": "ipython3",
   "version": "3.7.1"
  },
  "orig_nbformat": 4
 },
 "nbformat": 4,
 "nbformat_minor": 2
}
